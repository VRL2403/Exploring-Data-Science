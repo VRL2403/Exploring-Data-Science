{
 "cells": [
  {
   "cell_type": "markdown",
   "id": "0ae13511",
   "metadata": {},
   "source": [
    "# Feather vs CSV vs Excel"
   ]
  },
  {
   "cell_type": "markdown",
   "id": "359f1cd1",
   "metadata": {},
   "source": [
    "## What is feather?\n",
    "A Fast On-Disk Format for DataFrames for R and Python, powered by Apache Arrow. \n",
    "\n",
    "Feather is a fast, lightweight, and easy-to-use binary file format for storing data frames. It has a few specific design goals:\n",
    "\n",
    "- Lightweight, minimal API: make pushing data frames in and out of memory as simple as possible\n",
    "\n",
    "- Language agnostic: Feather files are the same whether written by Python or R code. Other languages can read and write Feather files, too.\n",
    "\n",
    "- High read and write performance. When possible, Feather operations should be bound by local disk performance.\n",
    "\n",
    "Feather is extremely fast. Since Feather does not currently use any compression internally"
   ]
  },
  {
   "cell_type": "code",
   "execution_count": 1,
   "id": "0797720f",
   "metadata": {},
   "outputs": [],
   "source": [
    "import numpy as np\n",
    "import pandas as pd"
   ]
  },
  {
   "cell_type": "markdown",
   "id": "1e6ec749",
   "metadata": {},
   "source": [
    "#### Reading a temporary file having 100000 records."
   ]
  },
  {
   "cell_type": "code",
   "execution_count": 2,
   "id": "1d55008b",
   "metadata": {},
   "outputs": [],
   "source": [
    "data_csv = pd.read_csv('test.csv')"
   ]
  },
  {
   "cell_type": "code",
   "execution_count": 3,
   "id": "05e3086b",
   "metadata": {},
   "outputs": [
    {
     "data": {
      "text/plain": [
       "(100000, 31)"
      ]
     },
     "execution_count": 3,
     "metadata": {},
     "output_type": "execute_result"
    }
   ],
   "source": [
    "data_csv.shape"
   ]
  },
  {
   "cell_type": "markdown",
   "id": "eb7a27cb",
   "metadata": {},
   "source": [
    "#### Time taken to write data into Feather."
   ]
  },
  {
   "cell_type": "code",
   "execution_count": 4,
   "id": "01d7103d",
   "metadata": {},
   "outputs": [
    {
     "name": "stdout",
     "output_type": "stream",
     "text": [
      "Wall time: 81.1 ms\n"
     ]
    }
   ],
   "source": [
    "%time data_csv.to_feather('test_df.feather')"
   ]
  },
  {
   "cell_type": "markdown",
   "id": "191a838e",
   "metadata": {},
   "source": [
    "#### Time taken to write data into CSV."
   ]
  },
  {
   "cell_type": "code",
   "execution_count": 5,
   "id": "75630865",
   "metadata": {},
   "outputs": [
    {
     "name": "stdout",
     "output_type": "stream",
     "text": [
      "Wall time: 3.98 s\n"
     ]
    }
   ],
   "source": [
    "%time data_csv.to_csv('test_df.csv')"
   ]
  },
  {
   "cell_type": "markdown",
   "id": "3ca5b66c",
   "metadata": {},
   "source": [
    "#### Time taken to write data into Excel."
   ]
  },
  {
   "cell_type": "code",
   "execution_count": 6,
   "id": "f92164e0",
   "metadata": {},
   "outputs": [
    {
     "name": "stdout",
     "output_type": "stream",
     "text": [
      "Wall time: 2min 12s\n"
     ]
    }
   ],
   "source": [
    "%time data_csv.to_excel('test_df.xlsx')"
   ]
  },
  {
   "cell_type": "markdown",
   "id": "e024030f",
   "metadata": {},
   "source": [
    "### Yes, you read that correctly: 81.1 milliseconds for writing data to feather versus approx 4 seconds for CSV and 2 minutes 12 seconds for Excel...! 😱"
   ]
  },
  {
   "cell_type": "markdown",
   "id": "9166d881",
   "metadata": {},
   "source": [
    "### Now lets checkout how much time does it take to read those files one by one."
   ]
  },
  {
   "cell_type": "markdown",
   "id": "25c98f8d",
   "metadata": {},
   "source": [
    "#### Time taken to read data from Feather."
   ]
  },
  {
   "cell_type": "code",
   "execution_count": 7,
   "id": "00741764",
   "metadata": {},
   "outputs": [
    {
     "name": "stdout",
     "output_type": "stream",
     "text": [
      "Wall time: 369 ms\n"
     ]
    }
   ],
   "source": [
    "%time df = pd.read_feather('test_df.feather')"
   ]
  },
  {
   "cell_type": "markdown",
   "id": "025a72bb",
   "metadata": {},
   "source": [
    "#### Time taken to read data from CSV."
   ]
  },
  {
   "cell_type": "code",
   "execution_count": 8,
   "id": "fddcb237",
   "metadata": {},
   "outputs": [
    {
     "name": "stdout",
     "output_type": "stream",
     "text": [
      "Wall time: 803 ms\n"
     ]
    }
   ],
   "source": [
    "%time df_csv = pd.read_csv('test_df.csv')"
   ]
  },
  {
   "cell_type": "markdown",
   "id": "9462ba09",
   "metadata": {},
   "source": [
    "#### Time taken to read data from Excel."
   ]
  },
  {
   "cell_type": "code",
   "execution_count": 9,
   "id": "bba7079a",
   "metadata": {},
   "outputs": [
    {
     "name": "stdout",
     "output_type": "stream",
     "text": [
      "Wall time: 59.1 s\n"
     ]
    }
   ],
   "source": [
    "%time df_excel = pd.read_excel('test_df.xlsx')"
   ]
  },
  {
   "cell_type": "markdown",
   "id": "367b6362",
   "metadata": {},
   "source": [
    "### Woah...!!! Just 369 milliseconds for reading feather file versus 803 milliseconds for CSV and 59 seconds for Excel."
   ]
  },
  {
   "cell_type": "markdown",
   "id": "b174e73b",
   "metadata": {},
   "source": [
    "### You can also check the size of each files which we created. Feather file takes least memory as compared to CSV and Excel."
   ]
  },
  {
   "cell_type": "markdown",
   "id": "abeea5b0",
   "metadata": {},
   "source": [
    "## When not to use Feather?\n",
    "Feather is not designed for long-term data storage. As there is no guarantee that the file format will be stable between versions. Instead, use Feather for quickly exchanging data between Python and R code, or for short-term storage of data frames as part of some analysis."
   ]
  }
 ],
 "metadata": {
  "kernelspec": {
   "display_name": "Python 3 (ipykernel)",
   "language": "python",
   "name": "python3"
  },
  "language_info": {
   "codemirror_mode": {
    "name": "ipython",
    "version": 3
   },
   "file_extension": ".py",
   "mimetype": "text/x-python",
   "name": "python",
   "nbconvert_exporter": "python",
   "pygments_lexer": "ipython3",
   "version": "3.7.13"
  }
 },
 "nbformat": 4,
 "nbformat_minor": 5
}
